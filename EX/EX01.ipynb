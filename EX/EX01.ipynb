{
 "cells": [
  {
   "cell_type": "code",
   "execution_count": 2,
   "metadata": {
    "collapsed": false
   },
   "outputs": [],
   "source": [
    "import numpy as np\n",
    "import matplotlib.pyplot as plt\n",
    "import sys\n",
    "caffe_root = '/home/jonnatas/workspace_python/caffe/'\n",
    "sys.path.insert(0, caffe_root + 'python')\n",
    "\n",
    "import os\n",
    "import cv2\n",
    "import caffe\n"
   ]
  },
  {
   "cell_type": "code",
   "execution_count": 6,
   "metadata": {
    "collapsed": false
   },
   "outputs": [
    {
     "name": "stdout",
     "output_type": "stream",
     "text": [
      "CaffeNet Found !!!!!!\n"
     ]
    }
   ],
   "source": [
    "import os\n",
    "if os.path.isfile(caffe_root + 'models/bvlc_reference_caffenet/bvlc_reference_caffenet.caffemodel'):\n",
    "    print 'CaffeNet Found !!!!!!'\n",
    "else:\n",
    "    print 'Downloading pre-trained CaffeNet model...'\n",
    "    !../scripts/download_model_binary.py ../models/bvlc_reference_caffenet"
   ]
  },
  {
   "cell_type": "code",
   "execution_count": 7,
   "metadata": {
    "collapsed": true
   },
   "outputs": [],
   "source": [
    "caffe.set_mode_cpu()\n",
    "\n",
    "model_def = caffe_root + 'models/bvlc_reference_caffenet/deploy.prototxt'\n",
    "model_weights = caffe_root + 'models/bvlc_reference_caffenet/bvlc_reference_caffenet.caffemodel'\n",
    "\n",
    "net = caffe.Net(model_def,      # defines the structure of the model\n",
    "                model_weights,  # contains the trained weights\n",
    "                caffe.TEST)     # use test mode (e.g., don't perform dropout)"
   ]
  },
  {
   "cell_type": "code",
   "execution_count": 10,
   "metadata": {
    "collapsed": false
   },
   "outputs": [
    {
     "name": "stdout",
     "output_type": "stream",
     "text": [
      "mean-subtracted values: [('B', 104.0069879317889), ('G', 116.66876761696767), ('R', 122.6789143406786)]\n"
     ]
    }
   ],
   "source": [
    "# load the mean ImageNet image (as distributed with Caffe) for subtraction\n",
    "mu = np.load(caffe_root + 'python/caffe/imagenet/ilsvrc_2012_mean.npy')\n",
    "mu = mu.mean(1).mean(1)  # average over pixels to obtain the mean (BGR) pixel values\n",
    "print 'mean-subtracted values:', zip('BGR', mu)\n",
    "\n",
    "# create transformer for the input called 'data'\n",
    "transformer = caffe.io.Transformer({'data': net.blobs['data'].data.shape})\n",
    "\n",
    "transformer.set_transpose('data', (2,0,1))  # move image channels to outermost dimension\n",
    "transformer.set_mean('data', mu)            # subtract the dataset-mean value in each channel\n",
    "transformer.set_raw_scale('data', 255)      # rescale from [0, 1] to [0, 255]\n",
    "transformer.set_channel_swap('data', (2,1,0))  # swap channels from RGB to BGR\n"
   ]
  },
  {
   "cell_type": "code",
   "execution_count": 13,
   "metadata": {
    "collapsed": false
   },
   "outputs": [
    {
     "name": "stdout",
     "output_type": "stream",
     "text": [
      "output label: n09835506 ballplayer, baseball player\n"
     ]
    }
   ],
   "source": [
    "# load ImageNet labels\n",
    "labels_file = caffe_root + 'data/ilsvrc12/synset_words.txt'\n",
    "if not os.path.exists(labels_file):\n",
    "    !../data/ilsvrc12/get_ilsvrc_aux.sh\n",
    "    \n",
    "labels = np.loadtxt(labels_file, str, delimiter='\\t')\n",
    "\n",
    "print 'output label:', labels[output_prob.argmax()]"
   ]
  },
  {
   "cell_type": "code",
   "execution_count": 36,
   "metadata": {
    "collapsed": false
   },
   "outputs": [
    {
     "name": "stdout",
     "output_type": "stream",
     "text": [
      "--2016-09-01 15:52:28--  http://imguol.com/c/noticias/af/2016/03/28/gata-cupcake-1459205092117_615x300.jpg\n",
      "Resolvendo imguol.com (imguol.com)... 200.147.4.50, 200.147.68.8, 200.221.7.95, ...\n",
      "Conectando-se a imguol.com (imguol.com)|200.147.4.50|:80... conectado.\n",
      "A requisição HTTP foi enviada, aguardando resposta... 200 OK\n",
      "Tamanho: 77179 (75K) [image/jpeg]\n",
      "Salvando em: “image.jpg”\n",
      "\n",
      "100%[======================================>] 77.179      --.-K/s   em 0,1s    \n",
      "\n",
      "2016-09-01 15:52:28 (733 KB/s) - “image.jpg” salvo [77179/77179]\n",
      "\n",
      "probabilities and labels:\n"
     ]
    },
    {
     "data": {
      "text/plain": [
       "[(0.42734125, 'n02108915 French bulldog'),\n",
       " (0.16867995, 'n02123597 Siamese cat, Siamese'),\n",
       " (0.11692936, 'n02085620 Chihuahua'),\n",
       " (0.075480007, 'n02096585 Boston bull, Boston terrier'),\n",
       " (0.064249754, 'n02091032 Italian greyhound')]"
      ]
     },
     "execution_count": 36,
     "metadata": {},
     "output_type": "execute_result"
    }
   ],
   "source": [
    "# download an image\n",
    "def imageDowload(path):\n",
    "    my_image_url = path  # paste your URL here\n",
    "    # for example:\n",
    "    #my_image_url = \"https://upload.wikimedia.org/wikipedia/commons/b/be/Orang_Utan%2C_Semenggok_Forest_Reserve%2C_Sarawak%2C_Borneo%2C_Malaysia.JPG\"\n",
    "    !wget -O image.jpg $my_image_url\n",
    "\n",
    "    # transform it and copy it into the net\n",
    "    image = caffe.io.load_image('image.jpg')\n",
    "    net.blobs['data'].data[...] = transformer.preprocess('data', image)\n",
    "\n",
    "    # perform classification\n",
    "    net.forward()\n",
    "\n",
    "    # obtain the output probabilities\n",
    "    output_prob = net.blobs['prob'].data[0]\n",
    "\n",
    "    # sort top five predictions from softmax output\n",
    "    top_inds = output_prob.argsort()[::-1][:5]\n",
    "\n",
    "    plt.imshow(image)\n",
    "\n",
    "    print 'probabilities and labels:'\n",
    "    return zip(output_prob[top_inds], labels[top_inds])\n",
    "\n",
    "imageDowload(\"http://imguol.com/c/noticias/af/2016/03/28/gata-cupcake-1459205092117_615x300.jpg\")"
   ]
  },
  {
   "cell_type": "code",
   "execution_count": null,
   "metadata": {
    "collapsed": true
   },
   "outputs": [],
   "source": []
  },
  {
   "cell_type": "code",
   "execution_count": null,
   "metadata": {
    "collapsed": true
   },
   "outputs": [],
   "source": []
  }
 ],
 "metadata": {
  "kernelspec": {
   "display_name": "Python 2",
   "language": "python",
   "name": "python2"
  },
  "language_info": {
   "codemirror_mode": {
    "name": "ipython",
    "version": 2
   },
   "file_extension": ".py",
   "mimetype": "text/x-python",
   "name": "python",
   "nbconvert_exporter": "python",
   "pygments_lexer": "ipython2",
   "version": "2.7.6"
  }
 },
 "nbformat": 4,
 "nbformat_minor": 1
}
