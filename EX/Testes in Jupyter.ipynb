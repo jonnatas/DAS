{
 "cells": [
  {
   "cell_type": "code",
   "execution_count": 1,
   "metadata": {
    "collapsed": true
   },
   "outputs": [],
   "source": [
    "## Write the Map function.\n",
    "def _map(f,list1,*list2):\n",
    "    if len(list2) > 0:\n",
    "        zipper = zip(list1,*list2)\n",
    "        return (f(*a) for a in zipper)\n",
    "    else:\n",
    "        return (f(a) for a in list1)"
   ]
  },
  {
   "cell_type": "code",
   "execution_count": 2,
   "metadata": {
    "collapsed": false
   },
   "outputs": [
    {
     "name": "stdout",
     "output_type": "stream",
     "text": [
      "[1, 2, 3, 4, 5]\n",
      "[6, 6, 6, 6, 6]\n",
      "[16, 26, 36, 46, 56]\n",
      "[1, 2, 3, 4, 5]\n",
      "[6, 6, 6, 6, 6]\n",
      "[16, 26, 36, 46, 56]\n"
     ]
    }
   ],
   "source": [
    "from operator import *\n",
    "from unittest import *\n",
    "\n",
    "a = [1,2,3,4,5]\n",
    "b = [5,4,3,2,1]\n",
    "c = [10,20,30,40,50]\n",
    "x = map(lambda x: x, a)\n",
    "y = map(lambda x,y: x+y ,a,b)\n",
    "z = map(lambda x,y,z: x+y+z ,a,b,c)\n",
    "\n",
    "print(list(x))\n",
    "print(list(y))\n",
    "print(list(z))\n",
    "\n",
    "w= _map(lambda x: x, a)\n",
    "ww = _map(lambda x,y: x+y ,a,b)\n",
    "www = _map(lambda x,y,z: x+y+z ,a,b,c)\n",
    "\n",
    "print(list(w))\n",
    "print(list(ww))\n",
    "print(list(www))"
   ]
  },
  {
   "cell_type": "code",
   "execution_count": 3,
   "metadata": {
    "collapsed": false
   },
   "outputs": [
    {
     "name": "stderr",
     "output_type": "stream",
     "text": [
      "...\n",
      "----------------------------------------------------------------------\n",
      "Ran 3 tests in 0.003s\n",
      "\n",
      "OK\n"
     ]
    },
    {
     "data": {
      "text/plain": [
       "<unittest.runner.TextTestResult run=3 errors=0 failures=0>"
      ]
     },
     "execution_count": 3,
     "metadata": {},
     "output_type": "execute_result"
    }
   ],
   "source": [
    "from io import StringIO\n",
    "import unittest\n",
    "import sys\n",
    "\n",
    "class TestMap (TestCase):\n",
    "    def test_map_1 (self):\n",
    "        a = [1,2,3,4,5]\n",
    "        b = [5,4,3,2,1]\n",
    "        w = map(lambda x,y: x+y ,a,b)\n",
    "        ww = _map(lambda x,y: x+y ,a,b)\n",
    "        self.assertEqual(list(w),list(ww))\n",
    "    \n",
    "    def test_map_2 (self):\n",
    "        a = [4,5]\n",
    "        b = [3,1]\n",
    "        c = [3,2]\n",
    "        w = map(lambda x,y,z: x+y-z ,a,b,c)\n",
    "        ww = _map(lambda x,y,z: x+y+z ,a,b,c)\n",
    "        self.assertNotEqual(list(w),list(ww))\n",
    "\n",
    "    def test_map_3 (self):\n",
    "        a = [4,5,3,2,1]\n",
    "        b = [4,3,3,2,1]\n",
    "        w = map(lambda x,y: x+y ,a,b)\n",
    "        ww = _map(lambda x,y: x+y ,a,b)\n",
    "        self.assertEqual(list(w),list(ww))\n",
    "\n",
    "#suite = unittest.TestLoader().loadTestsFromModule(TestMap)\n",
    "#unittest.TextTestRunner(verbosity=1,stream=sys.stderr).run(suite)\n",
    "\n",
    "suite = unittest.TestLoader().loadTestsFromTestCase(TestMap)\n",
    "unittest.TextTestRunner(verbosity=1,stream=sys.stderr).run(suite)"
   ]
  },
  {
   "cell_type": "markdown",
   "metadata": {},
   "source": [
    "# My tests"
   ]
  },
  {
   "cell_type": "code",
   "execution_count": 76,
   "metadata": {
    "collapsed": false
   },
   "outputs": [
    {
     "data": {
      "text/plain": [
       "'4'"
      ]
     },
     "execution_count": 76,
     "metadata": {},
     "output_type": "execute_result"
    }
   ],
   "source": [
    "class Calc():\n",
    "    def soma(self, a, b):\n",
    "        return str(a+b)\n",
    "    def mux(self, a, b):\n",
    "        return a*b\n",
    "    def div(self, a, b):\n",
    "        return a/b\n",
    "    def minus(self, a,b):\n",
    "        return a-b\n",
    "\n",
    "a = Calc()\n",
    "a.soma(2,2)"
   ]
  },
  {
   "cell_type": "code",
   "execution_count": 77,
   "metadata": {
    "collapsed": false
   },
   "outputs": [
    {
     "name": "stderr",
     "output_type": "stream",
     "text": [
      "test_div (__main__.TestCalc) ... ok\n",
      "test_minus (__main__.TestCalc) ... ok\n",
      "test_mux (__main__.TestCalc) ... ok\n",
      "test_soma (__main__.TestCalc) ... ok\n",
      "\n",
      "----------------------------------------------------------------------\n",
      "Ran 4 tests in 0.006s\n",
      "\n",
      "OK\n"
     ]
    },
    {
     "data": {
      "text/plain": [
       "<unittest.runner.TextTestResult run=4 errors=0 failures=0>"
      ]
     },
     "execution_count": 77,
     "metadata": {},
     "output_type": "execute_result"
    }
   ],
   "source": [
    "class TestCalc(TestCase):\n",
    "    a = Calc()\n",
    "    def test_soma(self):\n",
    "        self.assertEqual(a.soma(2,2), '4')\n",
    "    def test_mux(self):\n",
    "        self.assertEqual(a.mux(2,2), 4)\n",
    "    def test_div(self):\n",
    "        self.assertEqual(a.div(2,2), 1)\n",
    "    def test_minus(self):\n",
    "        self.assertEqual(a.minus(2,2), 0)\n",
    "        \n",
    "suite = unittest.TestLoader().loadTestsFromTestCase(TestCalc)\n",
    "unittest.TextTestRunner(verbosity=2,stream=sys.stderr).run(suite)"
   ]
  },
  {
   "cell_type": "code",
   "execution_count": 109,
   "metadata": {
    "collapsed": false
   },
   "outputs": [],
   "source": [
    "class Dog():\n",
    "    def __init__(self, name, race):\n",
    "        self.name = name\n",
    "        self.race = race \n",
    "        \n",
    "    def late(self):\n",
    "        if self.race == \"Pit Bull\":\n",
    "            return \"late igual a um pitBull\"\n",
    "        elif race == \"Pitcher\":\n",
    "            return \"late igual a um pitcher\"\n",
    "        else:\n",
    "            return \"não late\"\n",
    "    \n",
    "    def nameD(self):\n",
    "        if self.name == \"Plutos\":\n",
    "            return '123'\n",
    "        else:\n",
    "            return '321'\n",
    "        "
   ]
  },
  {
   "cell_type": "code",
   "execution_count": 120,
   "metadata": {
    "collapsed": false
   },
   "outputs": [],
   "source": [
    "class TestDog(TestCase):\n",
    "    def test_late(self):\n",
    "        b = Dog(\"Plutos\", \"Pit Bull\")\n",
    "        l = b.late()\n",
    "        self.assertEqual(l, \"late igual a um pitBull\")\n",
    "        \n",
    "    def test_name(self):\n",
    "        b = Dog(\"Plutos\", \"Pit Bull\")\n",
    "        l2 = b.nameD()\n",
    "        self.assertEqual(l2,'123')"
   ]
  },
  {
   "cell_type": "code",
   "execution_count": 121,
   "metadata": {
    "collapsed": false
   },
   "outputs": [
    {
     "name": "stderr",
     "output_type": "stream",
     "text": [
      "test_late (__main__.TestDog) ... ok\n",
      "test_name (__main__.TestDog) ... ok\n",
      "\n",
      "----------------------------------------------------------------------\n",
      "Ran 2 tests in 0.004s\n",
      "\n",
      "OK\n"
     ]
    },
    {
     "data": {
      "text/plain": [
       "<unittest.runner.TextTestResult run=2 errors=0 failures=0>"
      ]
     },
     "execution_count": 121,
     "metadata": {},
     "output_type": "execute_result"
    }
   ],
   "source": [
    "suiteDog = unittest.TestLoader().loadTestsFromTestCase(TestDog)\n",
    "unittest.TextTestRunner(verbosity=11).run(suiteDog)"
   ]
  },
  {
   "cell_type": "code",
   "execution_count": null,
   "metadata": {
    "collapsed": true
   },
   "outputs": [],
   "source": []
  },
  {
   "cell_type": "code",
   "execution_count": null,
   "metadata": {
    "collapsed": true
   },
   "outputs": [],
   "source": []
  }
 ],
 "metadata": {
  "kernelspec": {
   "display_name": "Python 2",
   "language": "python",
   "name": "python2"
  },
  "language_info": {
   "codemirror_mode": {
    "name": "ipython",
    "version": 2
   },
   "file_extension": ".py",
   "mimetype": "text/x-python",
   "name": "python",
   "nbconvert_exporter": "python",
   "pygments_lexer": "ipython2",
   "version": "2.7.6"
  }
 },
 "nbformat": 4,
 "nbformat_minor": 1
}
